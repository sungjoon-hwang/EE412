{
  "nbformat": 4,
  "nbformat_minor": 0,
  "metadata": {
    "colab": {
      "provenance": []
    },
    "kernelspec": {
      "name": "python3",
      "display_name": "Python 3"
    },
    "language_info": {
      "name": "python"
    }
  },
  "cells": [
    {
      "cell_type": "code",
      "execution_count": null,
      "metadata": {
        "id": "ZjVlS9Cvhyey"
      },
      "outputs": [],
      "source": [
        "import pandas as pd\n",
        "from sklearn.metrics import roc_auc_score\n",
        "\n",
        "# set your file location\n",
        "file_loc = 'example: contents/output.txt'  # results for model\n",
        "\n",
        "# upload your file as Dataframe (user_id, movie_id, score_for_movie_id, timestamp)\n",
        "output = pd.read_csv(file_loc, sep=',', header=None, names=['user_id', 'movie_id', 'score_for_movie_id', 'timestamp'])\n",
        "\n",
        "### Suggestion: make your own validate data and test your model ###\n",
        "true_labels = None\n",
        "\n",
        "predictions = output['score_for_movie_id'].tolist()\n",
        "\n",
        "# 3. ROC-AUC 계산\n",
        "roc_auc = roc_auc_score(true_labels, predictions)\n",
        "\n",
        "print(f\"ROC-AUC Score: {roc_auc}\")"
      ]
    }
  ]
}